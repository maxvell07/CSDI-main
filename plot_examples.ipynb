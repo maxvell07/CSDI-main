{
 "cells": [
  {
   "cell_type": "code",
   "execution_count": 1,
   "metadata": {},
   "outputs": [],
   "source": [
    "import matplotlib.pyplot as plt\n",
    "import numpy as np \n",
    "import torch\n",
    "import pickle\n",
    "import pandas as pd"
   ]
  },
  {
   "cell_type": "code",
   "execution_count": 2,
   "metadata": {},
   "outputs": [],
   "source": [
    "def get_quantile(samples,q,dim=1):\n",
    "    return torch.quantile(samples,q,dim=dim).cpu().numpy()"
   ]
  },
  {
   "cell_type": "code",
   "execution_count": 4,
   "metadata": {},
   "outputs": [],
   "source": [
    "dataset = 'user_data_behavior' \n",
    "datafolder = 'pretrained' # set the folder name\n",
    "nsample = 50 # number of generated sample\n",
    "\n",
    "path = './save/'+datafolder+'/generated_outputs_nsample' + str(nsample) + '.pk' \n",
    "with open(path, 'rb') as f:\n",
    "    samples,all_target,all_evalpoint,all_observed,all_observed_time,scaler,mean_scaler = pickle.load( f)\n",
    "\n",
    "all_target_np = all_target.cpu().numpy()\n",
    "all_evalpoint_np = all_evalpoint.cpu().numpy()\n",
    "all_observed_np = all_observed.cpu().numpy()\n",
    "all_given_np = all_observed_np - all_evalpoint_np\n",
    "\n",
    "K = samples.shape[-1] #feature\n",
    "L = samples.shape[-2] #time length\n",
    "\n",
    "if dataset == 'user_data_behavior':\n",
    "    path = 'data/user_data_behavior/user_data_behavior.pk'\n",
    "    with open(path, 'rb') as f:\n",
    "        train_mean,train_std = pickle.load(f)\n",
    "    train_std_cuda = torch.from_numpy(train_std).cuda()\n",
    "    train_mean_cuda = torch.from_numpy(train_mean).cuda()\n",
    "    all_target_np=(all_target_np*train_std+train_mean)\n",
    "    samples=(samples*train_std_cuda+train_mean_cuda)"
   ]
  },
  {
   "cell_type": "code",
   "execution_count": 7,
   "metadata": {},
   "outputs": [],
   "source": [
    "\n",
    "qlist =[1,2,3,4,5]\n",
    "quantiles_imp= []\n",
    "for q in qlist:\n",
    "    quantiles_imp.append(get_quantile(samples, q, dim=1)*(1-all_given_np) + all_target_np * all_given_np)"
   ]
  },
  {
   "cell_type": "code",
   "execution_count": null,
   "metadata": {},
   "outputs": [],
   "source": []
  }
 ],
 "metadata": {
  "kernelspec": {
   "display_name": "Python 3",
   "language": "python",
   "name": "python3"
  },
  "language_info": {
   "codemirror_mode": {
    "name": "ipython",
    "version": 3
   },
   "file_extension": ".py",
   "mimetype": "text/x-python",
   "name": "python",
   "nbconvert_exporter": "python",
   "pygments_lexer": "ipython3",
   "version": "3.6.6"
  }
 },
 "nbformat": 4,
 "nbformat_minor": 4
}
